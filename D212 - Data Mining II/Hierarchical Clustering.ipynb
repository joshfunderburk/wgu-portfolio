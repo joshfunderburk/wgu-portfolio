{
 "cells": [
  {
   "cell_type": "markdown",
   "id": "1342d569-41f0-4201-89ff-4c340eefe14c",
   "metadata": {},
   "source": [
    "# D212 - Data Mining II - Performance Assessment Task 1\n",
    "## Joshua T. Funderburk"
   ]
  },
  {
   "cell_type": "markdown",
   "id": "07e526b5-d1bf-4bb9-a8a3-220b2784f382",
   "metadata": {},
   "source": [
    "#### Programming Environment"
   ]
  },
  {
   "cell_type": "code",
   "execution_count": 1,
   "id": "9b86eb97-7d80-4ee5-a36a-4fefa652fd37",
   "metadata": {},
   "outputs": [
    {
     "name": "stdout",
     "output_type": "stream",
     "text": [
      "Python version: 3.12.8\n"
     ]
    }
   ],
   "source": [
    "from platform import python_version\n",
    "print(f\"Python version: {python_version()}\")"
   ]
  },
  {
   "cell_type": "markdown",
   "id": "2cbf86fe-fb72-42da-b703-9506b872b7fc",
   "metadata": {},
   "source": [
    "## Part I: Research Question"
   ]
  },
  {
   "cell_type": "markdown",
   "id": "220b990f-aa55-45cf-af47-7f4d91cd8e0e",
   "metadata": {},
   "source": [
    "### A1: Proposal of Question\n",
    "\n",
    "The question posed for this analysis is \"How do chronic medical conditions cluster together across the patient population using hierarchical clustering?\" \n",
    "\n",
    "Ultimately, the spirit of this question is for the hospital system to understand the characteristics of its patients. There are several benefits to doing so. The ability to make strategic decisions with patient characteristics in mind improves cost-effectiveness for not only the hospital system itself, but also for the patients and insurance companies. Through this understanding, the hospital system can implement efficient treatment protocols and develop more accurate budget planning through improved resource allocation.\n",
    "\n",
    "Beyond the financial implications, understanding patient populations as a whole can lead to significantly improved healthcare outcomes for individual patients. Quality of care can be enhanced by using cluster insights to develop specialized care protocols for common condition combinations. Additionally, these insights help support better coordination among different specialists treating the same patient. Hospital staffing can also be optimized by understanding what specialties and resources need to be available based on specific condition clusters, ensuring the right medical expertise is available when needed."
   ]
  },
  {
   "cell_type": "markdown",
   "id": "08db6799-c2db-4787-b60c-05d537929ebd",
   "metadata": {},
   "source": [
    "### A2: Defined Goal\n",
    "\n",
    "The goal for this analysis is to discover and identify naturally occurring patterns of chronic disease combinations by applying hierarchical clustering to patient condition data.\n",
    "\n",
    "As discussed in section A1, understanding patient characteristics offers several benefits for the hospital system, including cost-effectiveness for stakeholders and improved health outcomes for patients. By discovering and identifying naturally occurring patterns of chronic disease combinations, the hospital system can take informed action to optimize care. Hierarchical clustering is a good choice for this analysis because it essentially groups data based on similarity, such as with the binary variables representing chronic conditions in the patient data set. Ultimately, achieving this goal will enable us to answer how chronic medical conditions cluster together across this patient population."
   ]
  },
  {
   "cell_type": "markdown",
   "id": "455b87ef-7c4b-46d1-ab1f-e698c751ed1c",
   "metadata": {},
   "source": [
    "## Part II: Technique Justification"
   ]
  },
  {
   "cell_type": "markdown",
   "id": "2b35d791-4f54-4da3-83d8-08a592c69aab",
   "metadata": {},
   "source": [
    "### B1: Explanation of the Clustering Technique\n",
    "\n",
    "#### Explanation of Hierarchical Clustering:\n",
    "Hierarchical Clustering, as explained by GeeksforGeeks, is a method where data is organized into a tree-like structure of clusters. The process begins by treating each data point as its own separate cluster. It then progressively merges the most similar clusters together until all data points are connected in a single cluster. This clustering process is visualized through a dendrogram - a tree-like diagram that shows the sequence and relationship of these merges.\n",
    "\n",
    "One way to think about how Hierarchical Clustering works is through organizing a clean pile of laundry. You begin by organizing each piece of clothing separately, where every shirt, sock, pants, underwear, etc. is on its own. Next, you would pair up items that are obviously similar, such as matching socks going together. You would proceed to start forming larger groups - like all t-shirts in one pile, all pants in another pile. Finally, you might group piles of clothing into broader categories such as putting all tops together (t-shirts, sweaters, hoodies, etc.) and all bottoms together (pants, shorts, etc.).\n",
    "\n",
    "#### How Hierarchical Clustering analyzes the medical data set and the expected outcomes:\n",
    "The data set to be analyzed consists of 10,000 patient hospitalization observations, focusing primarily on medical conditions. SciPy's linkage function will be used to generate a complex distance matrix that will serve as the foundation for creating a dendrogram. SciPy's dendrogram function will then visualize the clustering hierarchy generated by linkage. The dendrogram will produce a visualization showing how clusters have formed and their relative distances from one another. This visualization can then be used to determine a logical cutoff point for cluster formation - in other words, the optimal number of clusters.\n",
    "\n",
    "SciPy's fcluster function will be used for labeling data observations with their respective cluster assignments. SciPy's silhouette function will generate Silhouette Scores to help validate the appropriate number of clusters and evaluate the quality of the clustering solution. Finally, with the optimal number of clusters determined, medical conditions will be grouped and listed to identify how chronic conditions cluster together in this patient population, enabling the development of insights and recommendations for hospital staff."
   ]
  },
  {
   "cell_type": "markdown",
   "id": "a3cf8e06-eb71-406d-8b1b-c8eba1d2d3ee",
   "metadata": {},
   "source": [
    "### B2: Summary of the Technique Assumption\n",
    "\n",
    "The Hierarchical Clustering technique relies on selecting an appropriate distance metric to capture relationships between data points effectively (IBM). The choice of metric significantly impacts the technique's effectiveness. For example, Euclidean Distance, which measures the straight-line distance between points in a multidimensional space, is well-suited for continuous variables measured on similar scales. In contrast, Jaccard Distance, as emphasized by Cornell et al., is ideal for binary variables because it assesses the proportion of shared features relative to the total combined features. While Euclidean and Jaccard Distances are commonly used, many other metrics exist, each suited to specific data types and scenarios. Aligning the distance metric with the dataset's characteristics ensures more meaningful and interpretable clustering results."
   ]
  },
  {
   "cell_type": "markdown",
   "id": "8ebabe5c-83c0-404b-8b68-0f4fa210110b",
   "metadata": {},
   "source": [
    "### B3: Packages or Libraries List\n",
    "\n",
    "- **matplotlib.pyplot** (plt) - Data visualization and plotting\n",
    "- **numpy** (np) - Numerical computing and array operations\n",
    "- **pandas** (pd) - Data manipulation and analysis\n",
    "- **seaborn** (sns) - Statistical data visualization\n",
    "- **scipy.cluster.hiearachy**:\n",
    "    - **dendrogram** - Plots hierarchical clustering trees\n",
    "    - **fcluster** - Forms flat clusters from hierarchical results\n",
    "    - **linkage** - Performs hierarchical clustering computations\n",
    "- **sklearn.metrics**:\n",
    "    - **silhouette_score** - Measures clustering quality"
   ]
  },
  {
   "cell_type": "code",
   "execution_count": 2,
   "id": "69543a94-be35-4f2c-ab3d-1920a4b437de",
   "metadata": {},
   "outputs": [],
   "source": [
    "import matplotlib.pyplot as plt\n",
    "import numpy as np\n",
    "import pandas as pd\n",
    "import seaborn as sns\n",
    "\n",
    "from scipy.cluster.hierarchy import dendrogram, fcluster, linkage\n",
    "from sklearn.metrics import silhouette_score"
   ]
  },
  {
   "cell_type": "markdown",
   "id": "73239b2a-8561-47d5-89d4-6ad1b9b1aa82",
   "metadata": {},
   "source": [
    "## Part III: Data Preparation"
   ]
  },
  {
   "cell_type": "code",
   "execution_count": 3,
   "id": "c4311ecb-8c9b-4369-a1f6-6a8b3e3dc195",
   "metadata": {},
   "outputs": [],
   "source": [
    "# Read CSV & Load Data in to Pandas Dataframe\n",
    "df = pd.read_csv(r'C:\\Users\\funde\\Desktop\\WGU\\D212\\medical_clean.csv',index_col=0)"
   ]
  },
  {
   "cell_type": "code",
   "execution_count": 4,
   "id": "05e1f955-a8fb-4060-9b3d-110b2736032d",
   "metadata": {},
   "outputs": [
    {
     "data": {
      "text/html": [
       "<div>\n",
       "<style scoped>\n",
       "    .dataframe tbody tr th:only-of-type {\n",
       "        vertical-align: middle;\n",
       "    }\n",
       "\n",
       "    .dataframe tbody tr th {\n",
       "        vertical-align: top;\n",
       "    }\n",
       "\n",
       "    .dataframe thead th {\n",
       "        text-align: right;\n",
       "    }\n",
       "</style>\n",
       "<table border=\"1\" class=\"dataframe\">\n",
       "  <thead>\n",
       "    <tr style=\"text-align: right;\">\n",
       "      <th></th>\n",
       "      <th>Customer_id</th>\n",
       "      <th>Interaction</th>\n",
       "      <th>UID</th>\n",
       "      <th>City</th>\n",
       "      <th>State</th>\n",
       "      <th>County</th>\n",
       "      <th>Zip</th>\n",
       "      <th>Lat</th>\n",
       "      <th>Lng</th>\n",
       "      <th>Population</th>\n",
       "      <th>...</th>\n",
       "      <th>TotalCharge</th>\n",
       "      <th>Additional_charges</th>\n",
       "      <th>Item1</th>\n",
       "      <th>Item2</th>\n",
       "      <th>Item3</th>\n",
       "      <th>Item4</th>\n",
       "      <th>Item5</th>\n",
       "      <th>Item6</th>\n",
       "      <th>Item7</th>\n",
       "      <th>Item8</th>\n",
       "    </tr>\n",
       "    <tr>\n",
       "      <th>CaseOrder</th>\n",
       "      <th></th>\n",
       "      <th></th>\n",
       "      <th></th>\n",
       "      <th></th>\n",
       "      <th></th>\n",
       "      <th></th>\n",
       "      <th></th>\n",
       "      <th></th>\n",
       "      <th></th>\n",
       "      <th></th>\n",
       "      <th></th>\n",
       "      <th></th>\n",
       "      <th></th>\n",
       "      <th></th>\n",
       "      <th></th>\n",
       "      <th></th>\n",
       "      <th></th>\n",
       "      <th></th>\n",
       "      <th></th>\n",
       "      <th></th>\n",
       "      <th></th>\n",
       "    </tr>\n",
       "  </thead>\n",
       "  <tbody>\n",
       "    <tr>\n",
       "      <th>1</th>\n",
       "      <td>C412403</td>\n",
       "      <td>8cd49b13-f45a-4b47-a2bd-173ffa932c2f</td>\n",
       "      <td>3a83ddb66e2ae73798bdf1d705dc0932</td>\n",
       "      <td>Eva</td>\n",
       "      <td>AL</td>\n",
       "      <td>Morgan</td>\n",
       "      <td>35621</td>\n",
       "      <td>34.34960</td>\n",
       "      <td>-86.72508</td>\n",
       "      <td>2951</td>\n",
       "      <td>...</td>\n",
       "      <td>3726.702860</td>\n",
       "      <td>17939.403420</td>\n",
       "      <td>3</td>\n",
       "      <td>3</td>\n",
       "      <td>2</td>\n",
       "      <td>2</td>\n",
       "      <td>4</td>\n",
       "      <td>3</td>\n",
       "      <td>3</td>\n",
       "      <td>4</td>\n",
       "    </tr>\n",
       "    <tr>\n",
       "      <th>2</th>\n",
       "      <td>Z919181</td>\n",
       "      <td>d2450b70-0337-4406-bdbb-bc1037f1734c</td>\n",
       "      <td>176354c5eef714957d486009feabf195</td>\n",
       "      <td>Marianna</td>\n",
       "      <td>FL</td>\n",
       "      <td>Jackson</td>\n",
       "      <td>32446</td>\n",
       "      <td>30.84513</td>\n",
       "      <td>-85.22907</td>\n",
       "      <td>11303</td>\n",
       "      <td>...</td>\n",
       "      <td>4193.190458</td>\n",
       "      <td>17612.998120</td>\n",
       "      <td>3</td>\n",
       "      <td>4</td>\n",
       "      <td>3</td>\n",
       "      <td>4</td>\n",
       "      <td>4</td>\n",
       "      <td>4</td>\n",
       "      <td>3</td>\n",
       "      <td>3</td>\n",
       "    </tr>\n",
       "    <tr>\n",
       "      <th>3</th>\n",
       "      <td>F995323</td>\n",
       "      <td>a2057123-abf5-4a2c-abad-8ffe33512562</td>\n",
       "      <td>e19a0fa00aeda885b8a436757e889bc9</td>\n",
       "      <td>Sioux Falls</td>\n",
       "      <td>SD</td>\n",
       "      <td>Minnehaha</td>\n",
       "      <td>57110</td>\n",
       "      <td>43.54321</td>\n",
       "      <td>-96.63772</td>\n",
       "      <td>17125</td>\n",
       "      <td>...</td>\n",
       "      <td>2434.234222</td>\n",
       "      <td>17505.192460</td>\n",
       "      <td>2</td>\n",
       "      <td>4</td>\n",
       "      <td>4</td>\n",
       "      <td>4</td>\n",
       "      <td>3</td>\n",
       "      <td>4</td>\n",
       "      <td>3</td>\n",
       "      <td>3</td>\n",
       "    </tr>\n",
       "    <tr>\n",
       "      <th>4</th>\n",
       "      <td>A879973</td>\n",
       "      <td>1dec528d-eb34-4079-adce-0d7a40e82205</td>\n",
       "      <td>cd17d7b6d152cb6f23957346d11c3f07</td>\n",
       "      <td>New Richland</td>\n",
       "      <td>MN</td>\n",
       "      <td>Waseca</td>\n",
       "      <td>56072</td>\n",
       "      <td>43.89744</td>\n",
       "      <td>-93.51479</td>\n",
       "      <td>2162</td>\n",
       "      <td>...</td>\n",
       "      <td>2127.830423</td>\n",
       "      <td>12993.437350</td>\n",
       "      <td>3</td>\n",
       "      <td>5</td>\n",
       "      <td>5</td>\n",
       "      <td>3</td>\n",
       "      <td>4</td>\n",
       "      <td>5</td>\n",
       "      <td>5</td>\n",
       "      <td>5</td>\n",
       "    </tr>\n",
       "    <tr>\n",
       "      <th>5</th>\n",
       "      <td>C544523</td>\n",
       "      <td>5885f56b-d6da-43a3-8760-83583af94266</td>\n",
       "      <td>d2f0425877b10ed6bb381f3e2579424a</td>\n",
       "      <td>West Point</td>\n",
       "      <td>VA</td>\n",
       "      <td>King William</td>\n",
       "      <td>23181</td>\n",
       "      <td>37.59894</td>\n",
       "      <td>-76.88958</td>\n",
       "      <td>5287</td>\n",
       "      <td>...</td>\n",
       "      <td>2113.073274</td>\n",
       "      <td>3716.525786</td>\n",
       "      <td>2</td>\n",
       "      <td>1</td>\n",
       "      <td>3</td>\n",
       "      <td>3</td>\n",
       "      <td>5</td>\n",
       "      <td>3</td>\n",
       "      <td>4</td>\n",
       "      <td>3</td>\n",
       "    </tr>\n",
       "  </tbody>\n",
       "</table>\n",
       "<p>5 rows × 49 columns</p>\n",
       "</div>"
      ],
      "text/plain": [
       "          Customer_id                           Interaction  \\\n",
       "CaseOrder                                                     \n",
       "1             C412403  8cd49b13-f45a-4b47-a2bd-173ffa932c2f   \n",
       "2             Z919181  d2450b70-0337-4406-bdbb-bc1037f1734c   \n",
       "3             F995323  a2057123-abf5-4a2c-abad-8ffe33512562   \n",
       "4             A879973  1dec528d-eb34-4079-adce-0d7a40e82205   \n",
       "5             C544523  5885f56b-d6da-43a3-8760-83583af94266   \n",
       "\n",
       "                                        UID          City State        County  \\\n",
       "CaseOrder                                                                       \n",
       "1          3a83ddb66e2ae73798bdf1d705dc0932           Eva    AL        Morgan   \n",
       "2          176354c5eef714957d486009feabf195      Marianna    FL       Jackson   \n",
       "3          e19a0fa00aeda885b8a436757e889bc9   Sioux Falls    SD     Minnehaha   \n",
       "4          cd17d7b6d152cb6f23957346d11c3f07  New Richland    MN        Waseca   \n",
       "5          d2f0425877b10ed6bb381f3e2579424a    West Point    VA  King William   \n",
       "\n",
       "             Zip       Lat       Lng  Population  ...  TotalCharge  \\\n",
       "CaseOrder                                         ...                \n",
       "1          35621  34.34960 -86.72508        2951  ...  3726.702860   \n",
       "2          32446  30.84513 -85.22907       11303  ...  4193.190458   \n",
       "3          57110  43.54321 -96.63772       17125  ...  2434.234222   \n",
       "4          56072  43.89744 -93.51479        2162  ...  2127.830423   \n",
       "5          23181  37.59894 -76.88958        5287  ...  2113.073274   \n",
       "\n",
       "          Additional_charges Item1  Item2  Item3  Item4 Item5 Item6 Item7  \\\n",
       "CaseOrder                                                                   \n",
       "1               17939.403420     3      3      2      2     4     3     3   \n",
       "2               17612.998120     3      4      3      4     4     4     3   \n",
       "3               17505.192460     2      4      4      4     3     4     3   \n",
       "4               12993.437350     3      5      5      3     4     5     5   \n",
       "5                3716.525786     2      1      3      3     5     3     4   \n",
       "\n",
       "           Item8  \n",
       "CaseOrder         \n",
       "1              4  \n",
       "2              3  \n",
       "3              3  \n",
       "4              5  \n",
       "5              3  \n",
       "\n",
       "[5 rows x 49 columns]"
      ]
     },
     "execution_count": 4,
     "metadata": {},
     "output_type": "execute_result"
    }
   ],
   "source": [
    "# Print top 5 rows of the Dataframe\n",
    "df.head()"
   ]
  },
  {
   "cell_type": "code",
   "execution_count": 5,
   "id": "1513df6a-f638-466a-bafa-50ce62a10ad4",
   "metadata": {},
   "outputs": [
    {
     "name": "stdout",
     "output_type": "stream",
     "text": [
      "<class 'pandas.core.frame.DataFrame'>\n",
      "Index: 10000 entries, 1 to 10000\n",
      "Data columns (total 49 columns):\n",
      " #   Column              Non-Null Count  Dtype  \n",
      "---  ------              --------------  -----  \n",
      " 0   Customer_id         10000 non-null  object \n",
      " 1   Interaction         10000 non-null  object \n",
      " 2   UID                 10000 non-null  object \n",
      " 3   City                10000 non-null  object \n",
      " 4   State               10000 non-null  object \n",
      " 5   County              10000 non-null  object \n",
      " 6   Zip                 10000 non-null  int64  \n",
      " 7   Lat                 10000 non-null  float64\n",
      " 8   Lng                 10000 non-null  float64\n",
      " 9   Population          10000 non-null  int64  \n",
      " 10  Area                10000 non-null  object \n",
      " 11  TimeZone            10000 non-null  object \n",
      " 12  Job                 10000 non-null  object \n",
      " 13  Children            10000 non-null  int64  \n",
      " 14  Age                 10000 non-null  int64  \n",
      " 15  Income              10000 non-null  float64\n",
      " 16  Marital             10000 non-null  object \n",
      " 17  Gender              10000 non-null  object \n",
      " 18  ReAdmis             10000 non-null  object \n",
      " 19  VitD_levels         10000 non-null  float64\n",
      " 20  Doc_visits          10000 non-null  int64  \n",
      " 21  Full_meals_eaten    10000 non-null  int64  \n",
      " 22  vitD_supp           10000 non-null  int64  \n",
      " 23  Soft_drink          10000 non-null  object \n",
      " 24  Initial_admin       10000 non-null  object \n",
      " 25  HighBlood           10000 non-null  object \n",
      " 26  Stroke              10000 non-null  object \n",
      " 27  Complication_risk   10000 non-null  object \n",
      " 28  Overweight          10000 non-null  object \n",
      " 29  Arthritis           10000 non-null  object \n",
      " 30  Diabetes            10000 non-null  object \n",
      " 31  Hyperlipidemia      10000 non-null  object \n",
      " 32  BackPain            10000 non-null  object \n",
      " 33  Anxiety             10000 non-null  object \n",
      " 34  Allergic_rhinitis   10000 non-null  object \n",
      " 35  Reflux_esophagitis  10000 non-null  object \n",
      " 36  Asthma              10000 non-null  object \n",
      " 37  Services            10000 non-null  object \n",
      " 38  Initial_days        10000 non-null  float64\n",
      " 39  TotalCharge         10000 non-null  float64\n",
      " 40  Additional_charges  10000 non-null  float64\n",
      " 41  Item1               10000 non-null  int64  \n",
      " 42  Item2               10000 non-null  int64  \n",
      " 43  Item3               10000 non-null  int64  \n",
      " 44  Item4               10000 non-null  int64  \n",
      " 45  Item5               10000 non-null  int64  \n",
      " 46  Item6               10000 non-null  int64  \n",
      " 47  Item7               10000 non-null  int64  \n",
      " 48  Item8               10000 non-null  int64  \n",
      "dtypes: float64(7), int64(15), object(27)\n",
      "memory usage: 3.8+ MB\n",
      "None\n"
     ]
    }
   ],
   "source": [
    "# Identify columns that do not contain values for all 10000 rows in the data set\n",
    "print(df.info())"
   ]
  },
  {
   "cell_type": "code",
   "execution_count": 6,
   "id": "e5834f55-0fc2-4ba6-9b56-939b35bcf2da",
   "metadata": {},
   "outputs": [
    {
     "name": "stdout",
     "output_type": "stream",
     "text": [
      "Customer_id            object\n",
      "Interaction            object\n",
      "UID                    object\n",
      "City                   object\n",
      "State                  object\n",
      "County                 object\n",
      "Zip                     int64\n",
      "Lat                   float64\n",
      "Lng                   float64\n",
      "Population              int64\n",
      "Area                   object\n",
      "TimeZone               object\n",
      "Job                    object\n",
      "Children                int64\n",
      "Age                     int64\n",
      "Income                float64\n",
      "Marital                object\n",
      "Gender                 object\n",
      "ReAdmis                object\n",
      "VitD_levels           float64\n",
      "Doc_visits              int64\n",
      "Full_meals_eaten        int64\n",
      "vitD_supp               int64\n",
      "Soft_drink             object\n",
      "Initial_admin          object\n",
      "HighBlood              object\n",
      "Stroke                 object\n",
      "Complication_risk      object\n",
      "Overweight             object\n",
      "Arthritis              object\n",
      "Diabetes               object\n",
      "Hyperlipidemia         object\n",
      "BackPain               object\n",
      "Anxiety                object\n",
      "Allergic_rhinitis      object\n",
      "Reflux_esophagitis     object\n",
      "Asthma                 object\n",
      "Services               object\n",
      "Initial_days          float64\n",
      "TotalCharge           float64\n",
      "Additional_charges    float64\n",
      "Item1                   int64\n",
      "Item2                   int64\n",
      "Item3                   int64\n",
      "Item4                   int64\n",
      "Item5                   int64\n",
      "Item6                   int64\n",
      "Item7                   int64\n",
      "Item8                   int64\n",
      "dtype: object\n"
     ]
    }
   ],
   "source": [
    "# Analyze data types\n",
    "dt = df.dtypes\n",
    "print(dt)"
   ]
  },
  {
   "cell_type": "markdown",
   "id": "3ef776e5-a806-480d-b07c-545334f1cd06",
   "metadata": {},
   "source": [
    "### C1: Data Preprocessing\n",
    "\n",
    "Hierarchical clustering works most effectively with numerical data because it relies on calculating distances/similarities between data points (Keita, 2023). Although specialized distance metrics exist to handle categorical data, Jaccard Distance will be used in this analysis which requires data to be in numerical form. Therefore, the categorical values in the dataset identified for this analysis will be converted to numeric form. In such a conversion, boolean values (\"Yes\" and \"No\") will be represented numerically as 1 and 0, respectively."
   ]
  },
  {
   "cell_type": "markdown",
   "id": "ed3f9455-3dc8-49a4-9cd0-d24d576d3ad7",
   "metadata": {},
   "source": [
    "### C2: Data Set Variables\n",
    "\n",
    "The following are the variables selected for this analysis and their corresponding data types (continuous versus categorical):\n",
    "- Allergic Rhinitis: Categorical\n",
    "- Anxiety: Categorical\n",
    "- Arthritis: Categorical\n",
    "- Asthma: Categorical\n",
    "- Back Pain: Categorical\n",
    "- Diabetes: Categorical\n",
    "- High Blood Pressure: Categorical\n",
    "- Hyperlipidemia: Categorical\n",
    "- Overweight: Categorical\n",
    "- Reflux Esophagitis: Categorical\n",
    "- Stroke: Categorical"
   ]
  },
  {
   "cell_type": "markdown",
   "id": "cc8214d7-5b53-48b0-b4be-3dee7f77d739",
   "metadata": {},
   "source": [
    "### C3: Steps for Analysis\n",
    "\n",
    "The data does not require much preparation for this analysis. Since we are focused on the 11 chronic medical condition columns that are boolean in nature, the primary data preparation step is to update the values of the columns to be 1 for \"Yes\" and 0 for \"No.\" Previous steps of this analysis have already validated that there are no null values for any of these columns. Finally, summary statistics will be generated for each of the 11 chronic medical condition columns to help understand the proportion of patients in the data set that have the condition."
   ]
  },
  {
   "cell_type": "markdown",
   "id": "7ba5203e-04c6-426b-b28b-ed738b1293bd",
   "metadata": {},
   "source": [
    "#### Update values of boolean columns"
   ]
  },
  {
   "cell_type": "code",
   "execution_count": 7,
   "id": "afd9dd87-cf8d-4e9b-b4cc-53c90a547755",
   "metadata": {},
   "outputs": [
    {
     "name": "stdout",
     "output_type": "stream",
     "text": [
      "\n",
      "Data Types:\n",
      "HighBlood             int32\n",
      "Stroke                int32\n",
      "Overweight            int32\n",
      "Arthritis             int32\n",
      "Diabetes              int32\n",
      "Hyperlipidemia        int32\n",
      "BackPain              int32\n",
      "Anxiety               int32\n",
      "Allergic_rhinitis     int32\n",
      "Reflux_esophagitis    int32\n",
      "Asthma                int32\n",
      "dtype: object\n",
      "\n",
      "First Few Rows:\n",
      "           HighBlood  Stroke  Overweight  Arthritis  Diabetes  Hyperlipidemia  \\\n",
      "CaseOrder                                                                       \n",
      "1                  1       0           0          1         1               0   \n",
      "2                  1       0           1          0         0               0   \n",
      "3                  1       0           1          0         1               0   \n",
      "4                  0       1           0          1         0               0   \n",
      "5                  0       0           0          0         0               1   \n",
      "\n",
      "           BackPain  Anxiety  Allergic_rhinitis  Reflux_esophagitis  Asthma  \n",
      "CaseOrder                                                                    \n",
      "1                 1        1                  1                   0       1  \n",
      "2                 0        0                  0                   1       0  \n",
      "3                 0        0                  0                   0       0  \n",
      "4                 0        0                  0                   1       1  \n",
      "5                 0        0                  1                   0       0  \n"
     ]
    }
   ],
   "source": [
    "# Update values of Boolean columns to be 1 for Yes and 0 for No\n",
    "\n",
    "# List of boolean columns\n",
    "yes_no_columns = [\n",
    "    \"HighBlood\", \"Stroke\", \"Overweight\", \"Arthritis\",\n",
    "    \"Diabetes\", \"Hyperlipidemia\", \"BackPain\", \"Anxiety\",\n",
    "     \"Allergic_rhinitis\", \"Reflux_esophagitis\", \"Asthma\"\n",
    "]\n",
    "\n",
    "# Create mapping dictionary\n",
    "mapping = {'Yes': 1, 'No': 0}\n",
    "\n",
    "# Apply mapping and convert to int\n",
    "for col in yes_no_columns:\n",
    "    df[col] = df[col].map(mapping).astype(int)\n",
    "\n",
    "# Verify the conversion\n",
    "print(\"\\nData Types:\")\n",
    "print(df[yes_no_columns].dtypes)\n",
    "print(\"\\nFirst Few Rows:\")\n",
    "print(df[yes_no_columns].head())"
   ]
  },
  {
   "cell_type": "markdown",
   "id": "e6d06f7b-7567-4e3b-bfdc-57b839786637",
   "metadata": {},
   "source": [
    "#### Summary Statistics"
   ]
  },
  {
   "cell_type": "markdown",
   "id": "89040eb1-0984-4651-9eb5-c5240da9825a",
   "metadata": {},
   "source": [
    "#### Allergic Rhinitis\n",
    "Roughly 39% of the patients suffer from allergic rhinitis."
   ]
  },
  {
   "cell_type": "code",
   "execution_count": 8,
   "id": "bf8d2fe4-e65a-42c2-a69e-ee67166f6ea7",
   "metadata": {},
   "outputs": [
    {
     "name": "stdout",
     "output_type": "stream",
     "text": [
      "Allergic Rhinitis Summary Statistics:\n"
     ]
    },
    {
     "data": {
      "text/plain": [
       "Allergic_rhinitis\n",
       "0    6059\n",
       "1    3941\n",
       "Name: count, dtype: int64"
      ]
     },
     "execution_count": 8,
     "metadata": {},
     "output_type": "execute_result"
    }
   ],
   "source": [
    "# Allergic_rhinitis\n",
    "print(\"Allergic Rhinitis Summary Statistics:\")\n",
    "df.Allergic_rhinitis.value_counts()"
   ]
  },
  {
   "cell_type": "markdown",
   "id": "0d210253-58f5-4f0b-a33a-235f500da445",
   "metadata": {},
   "source": [
    "#### Anxiety\n",
    "Roughly 32% of the patients suffer from anxiety."
   ]
  },
  {
   "cell_type": "code",
   "execution_count": 9,
   "id": "81d627e8-2094-4caf-aab9-df2dc21d2f01",
   "metadata": {},
   "outputs": [
    {
     "name": "stdout",
     "output_type": "stream",
     "text": [
      "Anxiety Summary Statistics:\n"
     ]
    },
    {
     "data": {
      "text/plain": [
       "Anxiety\n",
       "0    6785\n",
       "1    3215\n",
       "Name: count, dtype: int64"
      ]
     },
     "execution_count": 9,
     "metadata": {},
     "output_type": "execute_result"
    }
   ],
   "source": [
    "# Anxiety\n",
    "print(\"Anxiety Summary Statistics:\")\n",
    "df.Anxiety.value_counts()"
   ]
  },
  {
   "cell_type": "markdown",
   "id": "03a79d95-5a09-4b00-81e8-67a97a5e6fa3",
   "metadata": {},
   "source": [
    "#### Arthritis\n",
    "Roughly 36% of the patients suffer from arthritis."
   ]
  },
  {
   "cell_type": "code",
   "execution_count": 10,
   "id": "d07ab0c5-b258-4840-aa4c-1fbf73ff1a60",
   "metadata": {},
   "outputs": [
    {
     "name": "stdout",
     "output_type": "stream",
     "text": [
      "Arthritis Summary Statistics:\n"
     ]
    },
    {
     "data": {
      "text/plain": [
       "Arthritis\n",
       "0    6426\n",
       "1    3574\n",
       "Name: count, dtype: int64"
      ]
     },
     "execution_count": 10,
     "metadata": {},
     "output_type": "execute_result"
    }
   ],
   "source": [
    "# Arthritis\n",
    "print(\"Arthritis Summary Statistics:\")\n",
    "df.Arthritis.value_counts()"
   ]
  },
  {
   "cell_type": "markdown",
   "id": "f5438cff-4698-4129-9253-c983b592763a",
   "metadata": {},
   "source": [
    "#### Asthma\n",
    "Only 28.9% of the patients suffer from asthma."
   ]
  },
  {
   "cell_type": "code",
   "execution_count": 11,
   "id": "d5f73b0f-7853-4f61-9ac1-f2c7853622eb",
   "metadata": {},
   "outputs": [
    {
     "name": "stdout",
     "output_type": "stream",
     "text": [
      "Asthma Summary Statistics:\n"
     ]
    },
    {
     "data": {
      "text/plain": [
       "Asthma\n",
       "0    7107\n",
       "1    2893\n",
       "Name: count, dtype: int64"
      ]
     },
     "execution_count": 11,
     "metadata": {},
     "output_type": "execute_result"
    }
   ],
   "source": [
    "# Asthma\n",
    "print(\"Asthma Summary Statistics:\")\n",
    "df.Asthma.value_counts()"
   ]
  },
  {
   "cell_type": "markdown",
   "id": "f6055ed7-1fd7-46d7-a17c-5b6daa7ea3de",
   "metadata": {},
   "source": [
    "#### Back Pain\n",
    "41.1% of the patients suffer from back pain."
   ]
  },
  {
   "cell_type": "code",
   "execution_count": 12,
   "id": "779ccf9d-0922-4818-8bef-2251f7c96d32",
   "metadata": {},
   "outputs": [
    {
     "name": "stdout",
     "output_type": "stream",
     "text": [
      "Back Pain Summary Statistics:\n"
     ]
    },
    {
     "data": {
      "text/plain": [
       "BackPain\n",
       "0    5886\n",
       "1    4114\n",
       "Name: count, dtype: int64"
      ]
     },
     "execution_count": 12,
     "metadata": {},
     "output_type": "execute_result"
    }
   ],
   "source": [
    "# Back Pain\n",
    "print(\"Back Pain Summary Statistics:\")\n",
    "df.BackPain.value_counts()"
   ]
  },
  {
   "cell_type": "markdown",
   "id": "43f1e479-1a4b-4d9e-bc61-902294d1b44f",
   "metadata": {},
   "source": [
    "#### Diabetes\n",
    "Most patients do not have diabetes - only 27% do."
   ]
  },
  {
   "cell_type": "code",
   "execution_count": 13,
   "id": "81847238-5898-4e5a-b014-b4e55ec40326",
   "metadata": {},
   "outputs": [
    {
     "name": "stdout",
     "output_type": "stream",
     "text": [
      "Diabetes Summary Statistics:\n"
     ]
    },
    {
     "data": {
      "text/plain": [
       "Diabetes\n",
       "0    7262\n",
       "1    2738\n",
       "Name: count, dtype: int64"
      ]
     },
     "execution_count": 13,
     "metadata": {},
     "output_type": "execute_result"
    }
   ],
   "source": [
    "# Diabetes\n",
    "print(\"Diabetes Summary Statistics:\")\n",
    "df.Diabetes.value_counts()"
   ]
  },
  {
   "cell_type": "markdown",
   "id": "cb1c8e57-35ad-4188-8fa6-058e0a8d3144",
   "metadata": {},
   "source": [
    "#### High Blood\n",
    "40% of patients have high blood pressure."
   ]
  },
  {
   "cell_type": "code",
   "execution_count": 14,
   "id": "ff4c9042-4f4a-4304-a08d-87d1035b23f7",
   "metadata": {},
   "outputs": [
    {
     "name": "stdout",
     "output_type": "stream",
     "text": [
      "High Blood Pressure Summary Statistics:\n"
     ]
    },
    {
     "data": {
      "text/plain": [
       "HighBlood\n",
       "0    5910\n",
       "1    4090\n",
       "Name: count, dtype: int64"
      ]
     },
     "execution_count": 14,
     "metadata": {},
     "output_type": "execute_result"
    }
   ],
   "source": [
    "# HighBlood\n",
    "print(\"High Blood Pressure Summary Statistics:\")\n",
    "df.HighBlood.value_counts()"
   ]
  },
  {
   "cell_type": "markdown",
   "id": "dd99778c-d664-4d8f-b4cd-d61660817917",
   "metadata": {},
   "source": [
    "#### Hyperlipidemia\n",
    "33.7% of patients have Hyperlipidemia."
   ]
  },
  {
   "cell_type": "code",
   "execution_count": 15,
   "id": "c09c2e39-b011-4602-bb19-dfc1753e8a44",
   "metadata": {},
   "outputs": [
    {
     "name": "stdout",
     "output_type": "stream",
     "text": [
      "Hyperlipidemia Summary Statistics:\n"
     ]
    },
    {
     "data": {
      "text/plain": [
       "Hyperlipidemia\n",
       "0    6628\n",
       "1    3372\n",
       "Name: count, dtype: int64"
      ]
     },
     "execution_count": 15,
     "metadata": {},
     "output_type": "execute_result"
    }
   ],
   "source": [
    "# Hyperlipidemia\n",
    "print(\"Hyperlipidemia Summary Statistics:\")\n",
    "df.Hyperlipidemia.value_counts()"
   ]
  },
  {
   "cell_type": "markdown",
   "id": "7698c351-4143-4336-bff0-8a8002ffdcf9",
   "metadata": {},
   "source": [
    "#### Overweight\n",
    "70% of patients in the dataset are considered overweight. This may be an indicator of a person's likelihood to be hospitalized, but it is yet to be seen whether being overweight also can inform the length of stay."
   ]
  },
  {
   "cell_type": "code",
   "execution_count": 16,
   "id": "64148211-f307-451c-89f7-d77b529feb80",
   "metadata": {},
   "outputs": [
    {
     "name": "stdout",
     "output_type": "stream",
     "text": [
      "Overweight Summary Statistics:\n"
     ]
    },
    {
     "data": {
      "text/plain": [
       "Overweight\n",
       "1    7094\n",
       "0    2906\n",
       "Name: count, dtype: int64"
      ]
     },
     "execution_count": 16,
     "metadata": {},
     "output_type": "execute_result"
    }
   ],
   "source": [
    "# Overweight\n",
    "print(\"Overweight Summary Statistics:\")\n",
    "df.Overweight.value_counts()"
   ]
  },
  {
   "cell_type": "markdown",
   "id": "1e686f5e-8a55-41d8-9537-3efe3a1a3679",
   "metadata": {},
   "source": [
    "#### Reflux Esophagitis\n",
    "41.4% of patients suffer from reflux esophagitis."
   ]
  },
  {
   "cell_type": "code",
   "execution_count": 17,
   "id": "df5ea9a1-be25-4490-ba16-22021fa0e645",
   "metadata": {},
   "outputs": [
    {
     "name": "stdout",
     "output_type": "stream",
     "text": [
      "Reflux Esophagitis Summary Statistics:\n"
     ]
    },
    {
     "data": {
      "text/plain": [
       "Reflux_esophagitis\n",
       "0    5865\n",
       "1    4135\n",
       "Name: count, dtype: int64"
      ]
     },
     "execution_count": 17,
     "metadata": {},
     "output_type": "execute_result"
    }
   ],
   "source": [
    "# Reflux_esophagitis\n",
    "print(\"Reflux Esophagitis Summary Statistics:\")\n",
    "df.Reflux_esophagitis.value_counts()"
   ]
  },
  {
   "cell_type": "markdown",
   "id": "d9fa836c-efa8-43a5-a459-bd5e41f417ea",
   "metadata": {},
   "source": [
    "#### Stroke\n",
    "Only 1 in 5 patients are identified as having had a stroke."
   ]
  },
  {
   "cell_type": "code",
   "execution_count": 18,
   "id": "dd12b6c2-bce0-4f79-baa5-414b7bdba68e",
   "metadata": {},
   "outputs": [
    {
     "name": "stdout",
     "output_type": "stream",
     "text": [
      "Stroke Summary Statistics:\n"
     ]
    },
    {
     "data": {
      "text/plain": [
       "Stroke\n",
       "0    8007\n",
       "1    1993\n",
       "Name: count, dtype: int64"
      ]
     },
     "execution_count": 18,
     "metadata": {},
     "output_type": "execute_result"
    }
   ],
   "source": [
    "# Stroke\n",
    "print(\"Stroke Summary Statistics:\")\n",
    "df.Stroke.value_counts()"
   ]
  },
  {
   "cell_type": "markdown",
   "id": "826253ad-182b-40f3-836f-d9785793cf13",
   "metadata": {},
   "source": [
    "### C4: Cleaned Data Set"
   ]
  },
  {
   "cell_type": "code",
   "execution_count": 19,
   "id": "0f8f02cc-6493-46aa-ae82-225d334b31ef",
   "metadata": {},
   "outputs": [],
   "source": [
    "# Write DataFrame to CSV\n",
    "df.to_csv('d212_prepared_data_task_1.csv', index=False)"
   ]
  },
  {
   "cell_type": "markdown",
   "id": "ca2efff0-b909-4714-a250-cc4ec6b1b421",
   "metadata": {},
   "source": [
    "## Part IV: Analysis"
   ]
  },
  {
   "cell_type": "markdown",
   "id": "3dcc50c7-856c-45aa-964f-cd8ca58cec6c",
   "metadata": {},
   "source": [
    "### D1: Output and Intermediate Calculations\n",
    "\n",
    "The following are the steps taken to complete the analysis:\n",
    "\n",
    "#### 1. Make a copy of the dataframe (df) and reduce it to only include the features selected for this analysis. A copy of the dataframe with reduced features is required for data manipulation in later steps."
   ]
  },
  {
   "cell_type": "code",
   "execution_count": 20,
   "id": "b8046c44-174c-4f7e-b7eb-d5f41474d0c6",
   "metadata": {},
   "outputs": [
    {
     "name": "stdout",
     "output_type": "stream",
     "text": [
      "DataFrame shape: (10000, 11)\n",
      "Number of features: 11\n",
      "Number of samples: 10000\n"
     ]
    }
   ],
   "source": [
    "# Create a copy of the Dataframe with only the selected columns\n",
    "rdf = df[['Allergic_rhinitis', 'Anxiety', 'Arthritis', 'Asthma', 'BackPain',\n",
    "          'Diabetes', 'HighBlood', 'Hyperlipidemia', 'Overweight',\n",
    "          'Reflux_esophagitis', 'Stroke']].copy()\n",
    "\n",
    "# Verify Dataframe copy\n",
    "print(\"DataFrame shape:\", rdf.shape)\n",
    "print(\"Number of features:\", len(rdf.columns))\n",
    "print(\"Number of samples:\", len(rdf))"
   ]
  },
  {
   "cell_type": "markdown",
   "id": "2799f043-a570-467a-a794-bf680219ef68",
   "metadata": {},
   "source": [
    "#### 2. Create a linkage matrix using Jaccard Distance and average linkage. The dataframe (rdf) must be transposed in order to cluster the patients.\n",
    "\n",
    "Since the goal is to identify clusters of chronic medical conditions rather than clusters of patients, the DataFrame must be transposed (Cornell et al., 2009). Transposing for this analysis effectively switches the roles of variables and observations, allowing the clustering algorithm to assess similarities between conditions.\n",
    "\n",
    "Cornell et al. also highlight that Jaccard Distance is particularly suited for binary variables. Given that this analysis involves clustering chronic medical conditions represented as binary variables, a distance metric that specifically evaluates similarity or dissimilarity is essential. Geeks for Geeks emphasizes that Jaccard Distance measures the dissimilarity between two sets, making it an ideal choice for this context. Although Euclidean Distance is commonly used for clustering analysis and is the default metric in scipy.cluster.hierarchy, it treats the presence and absence of features equally. This characteristic makes it less suitable for datasets of this nature, a limitation also noted by Cornell et al.\n",
    "\n",
    "The scipy.cluster.hierarchy.linkage function places certain limitations on the combination of linkage methods and distance metrics. When using Jaccard Distance, Ward linkage is unavailable. Single and complete linkage methods are compatible but may result in elongated or overly compact clusters, respectively. Average linkage provides a balanced approach, offering stable clustering results that capture overall patterns of similarity without being overly influenced by outliers or specific pairs (Van Otten, 2023). This makes it a suitable choice for this analysis.\n",
    "\n",
    "With a transposed dataframe, Jaccard Distance as the distance metric, and the linkage method as average a linkage matrix is created. A linkage matrix is used in hierarchical clustering for three main reasons:\n",
    "1. It tracks how data points and clusters merge, showing which clusters combine and at what distance.\n",
    "2. It helps create a dendrogram, a visual representation of the clustering process.\n",
    "3. It allows for reconstructing clusters at any level and efficiently updates distances as clusters merge.\n",
    "\n",
    "Each row of the matrix contains four pieces of information: the two clusters being merged, the distance between them, and the size of the new cluster formed.\n"
   ]
  },
  {
   "cell_type": "code",
   "execution_count": 21,
   "id": "982f2511-8be1-431a-91d3-ec4cce93702e",
   "metadata": {},
   "outputs": [
    {
     "name": "stdout",
     "output_type": "stream",
     "text": [
      "Linkage matrix shape: (10, 4)\n",
      "Expected number of labels: 11\n"
     ]
    }
   ],
   "source": [
    "# Create linkage matrix using Jaccard distance and average linkage\n",
    "# Transpose the data to cluster the patients\n",
    "linkage_matrix = linkage(rdf.transpose(), method='average', metric='jaccard')\n",
    "\n",
    "print(\"Linkage matrix shape:\", linkage_matrix.shape)\n",
    "print(\"Expected number of labels:\", linkage_matrix.shape[0] + 1)"
   ]
  },
  {
   "cell_type": "markdown",
   "id": "144c5e39-9382-4c6f-9b55-d6a2fa189cc7",
   "metadata": {},
   "source": [
    "#### 3. Plot dendrogram.\n",
    "\n",
    "A dendrogram is created with data from the linkage matrix to help visualize the cluster merging. The visualization will show the sequence in which clusters are combined as well as the distance at which each merge occurs. It is an essential tool in determining how many clusters should be created. Determining how many clusters to create can be determined by \"cutting\" the dendrogram horizontally at distances where there are relatively large gaps between merges. The gaps represent divisions in the data where there is an increase in the distance (or dissimarlity) between clusters, which suggests distinct groupings. The longer the vertical lines in the dendrogram, the more dissimilar the clusters are that are being merged at that level.\n",
    "\n",
    "Analyzing the resulting dendrogram shows the first significant cutoff for clusters to be around 0.85. However, this would result in only 2 clusters with the first cluster containing the variable stroke and the other cluster containing the other 10 medical condition variables. Splitting in to 2 clusters does not seem like it would yield any meaningful insights from the clustering. The next significant split in the dendrogram seems to be roughly at 0.8, which is the equivalent of 4 clusters. This would create an individual cluster for each of stroke, diabetes, and asthma plus an additional cluster for the remaining 8 medical conditions. 4 clusters is certainly better than the 2 given the results of the clustering. The dendrogram provides little justification for splitting by more than 4 clusters."
   ]
  },
  {
   "cell_type": "code",
   "execution_count": 22,
   "id": "bf3ea3ca-f140-4716-872a-f172bd62de46",
   "metadata": {},
   "outputs": [
    {
     "data": {
      "text/plain": [
       "<function matplotlib.pyplot.show(close=None, block=None)>"
      ]
     },
     "execution_count": 22,
     "metadata": {},
     "output_type": "execute_result"
    },
    {
     "data": {
      "image/png": "[encoded data removed]",
      "text/plain": [
       "<Figure size 1000x600 with 1 Axes>"
      ]
     },
     "metadata": {},
     "output_type": "display_data"
    }
   ],
   "source": [
    "# Plot dendrogram\n",
    "plt.figure(figsize=(10, 6))\n",
    "\n",
    "dendrogram(\n",
    "    linkage_matrix,\n",
    "    labels=rdf.columns,\n",
    "    leaf_rotation=30,\n",
    "    leaf_font_size=10,\n",
    ")\n",
    "\n",
    "plt.yticks(np.arange(0, 1.1, 0.1))\n",
    "\n",
    "plt.title('Relationship Between Medical Conditions')\n",
    "plt.xlabel('Medical Conditions')\n",
    "plt.ylabel('Distance (Jaccard)')\n",
    "plt.grid(axis='y', linestyle='--', alpha=0.7)\n",
    "plt.axhline(y=0.785, color='r', linestyle='--', alpha=0.5)\n",
    "plt.tight_layout()\n",
    "plt.show"
   ]
  },
  {
   "cell_type": "markdown",
   "id": "fc78375e-6790-4c2b-b895-acef79625aa0",
   "metadata": {},
   "source": [
    "#### 4. Calculate Silhouette Scores to help inform the appropriate number of clusters.\n",
    "\n",
    "In this analysis, Silhouette Scores are calculated for different numbers of clusters to help determine the appropriate number of clusters. 2 clusters are tested first and the code iterates until it reaches the number of columns in the dataframe minus 1. The number of columns here is 11, so the code will iterate on the Silhouette Score until it reaches 10 clusters. Stopping at 10 clusters is a meaningful limit because with 11 features, having 11 clusters would mean each data point would likely be assigned to its own cluster, which wouldn't provide useful insights about groupings in the data.\n",
    "\n",
    "From the results of the Silhouette Scores, the score gets progressively less negative as the number of clusters increases. However, the Silhouette Score never becomes equal to or greater than 0. This suggests that the data might not have strong natural clustering tendencies. From the options provided, 9 clusters would be a reasonable choice for this analysis based on the Silhouette Score, but it may not be practical given that this would likely cause each variable to fall within its own cluster - similar to what is represented in the dendrogram. Attempting to balance the number of variables per cluster and the Silhouette Score, it is likely wisest to stick with a cluster amount closer to 5. 5 clusters is roughly when the score improvements slow down substantially - after this point, each additional cluster only improves the score by about 0.005 or less. This slowing improvement rate, combined with it being a reasonable middle ground for distributing variables across clusters, makes 5 a practical choice if solely considering the Silhouette Score to inform number of clusters.\n",
    "\n",
    "Note: Explanation of Silhouette Score as a metric can be found in this analysis in section E1."
   ]
  },
  {
   "cell_type": "code",
   "execution_count": 23,
   "id": "cee7ce95-7267-47bf-b671-fe172736c957",
   "metadata": {},
   "outputs": [
    {
     "name": "stdout",
     "output_type": "stream",
     "text": [
      "\n",
      "Analyzing silhouette scores for different numbers of clusters:\n",
      "Number of clusters: 2, Silhouette score: -0.044\n",
      "Number of clusters: 3, Silhouette score: -0.039\n",
      "Number of clusters: 4, Silhouette score: -0.033\n",
      "Number of clusters: 5, Silhouette score: -0.027\n",
      "Number of clusters: 6, Silhouette score: -0.022\n",
      "Number of clusters: 7, Silhouette score: -0.017\n",
      "Number of clusters: 8, Silhouette score: -0.014\n",
      "Number of clusters: 9, Silhouette score: -0.010\n",
      "Number of clusters: 10, Silhouette score: -0.010\n"
     ]
    }
   ],
   "source": [
    "# Calculate silhouette scores \n",
    "print(\"\\nAnalyzing silhouette scores for different numbers of clusters:\")\n",
    "silhouette_scores = []\n",
    "n_clusters_range = range(2, len(rdf.columns))\n",
    "\n",
    "# Use for loop to check Silhouette scores for different numbers of clusters\n",
    "for n in n_clusters_range:\n",
    "    cluster_labels = fcluster(linkage_matrix, n, criterion='maxclust')\n",
    "    score = silhouette_score(rdf.transpose(), cluster_labels)\n",
    "    silhouette_scores.append((n, score))\n",
    "    print(f\"Number of clusters: {n}, Silhouette score: {score:.3f}\")"
   ]
  },
  {
   "cell_type": "markdown",
   "id": "3888ba33-edcd-4632-bb1d-ac40e913288b",
   "metadata": {},
   "source": [
    "#### 5. Use the dendrogram and the Silhouette Score to make a final determination on the optimal number of clusters.\n",
    "\n",
    "This analysis uses both a dendrogram and Silhouette Scores to help determine the optimal number of clusters. The dendrogram analysis yielded 4 as the most appropriate number of clusters. Although the gaps were close, there were apparent differences at several of the merge levels. The Silhouette Scores did little to help identify an appropriate cluster amount. The scores for clusters 2 through 10 were within 0.034 points of each other, with each additional cluster yielding an improvement of 0.006 or less toward 0. Given that, it seems more appropriate to give more consideration to the dendrogram in determining the optimal number of clusters. The final determination for clusters is 4. \n",
    "\n",
    "The conditions that fell within each of the 4 clusters are listed below."
   ]
  },
  {
   "cell_type": "code",
   "execution_count": 24,
   "id": "c73a3726-585d-4718-8b0e-25793249ca36",
   "metadata": {},
   "outputs": [
    {
     "name": "stdout",
     "output_type": "stream",
     "text": [
      "\n",
      "Conditions in each cluster:\n",
      "\n",
      "Cluster 1:\n",
      "• Allergic_rhinitis\n",
      "• Anxiety\n",
      "• Arthritis\n",
      "• BackPain\n",
      "• HighBlood\n",
      "• Hyperlipidemia\n",
      "• Overweight\n",
      "• Reflux_esophagitis\n",
      "\n",
      "Cluster 2:\n",
      "• Asthma\n",
      "\n",
      "Cluster 3:\n",
      "• Diabetes\n",
      "\n",
      "Cluster 4:\n",
      "• Stroke\n"
     ]
    }
   ],
   "source": [
    "# Set number of clusters\n",
    "n_clusters = 4\n",
    "cluster_labels = fcluster(linkage_matrix, n_clusters, criterion='maxclust')\n",
    "\n",
    "# Create cluster profiles\n",
    "conditions_by_cluster = pd.DataFrame({\n",
    "    'Condition': rdf.columns,\n",
    "    'Cluster': cluster_labels\n",
    "})\n",
    "\n",
    "# Print results\n",
    "print(\"\\nConditions in each cluster:\")\n",
    "for cluster in range(1, n_clusters + 1):\n",
    "    conditions = conditions_by_cluster[conditions_by_cluster['Cluster'] == cluster]['Condition']\n",
    "    print(f\"\\nCluster {cluster}:\")\n",
    "    for condition in conditions:\n",
    "        print(f\"• {condition}\")"
   ]
  },
  {
   "cell_type": "markdown",
   "id": "58a7da9d-5a82-4e36-b5f6-249e188e86cd",
   "metadata": {
    "jp-MarkdownHeadingCollapsed": true
   },
   "source": [
    "### D2: Code Execution\n",
    "\n",
    "The code used to complete hierarchical clustering is provided in Section D1 as part of the output and intermediate calculations."
   ]
  },
  {
   "cell_type": "markdown",
   "id": "d6fba4c5-4ed4-40e7-8453-3ff0b8cc9e3a",
   "metadata": {},
   "source": [
    "## Part V: Data Summary and Implications"
   ]
  },
  {
   "cell_type": "markdown",
   "id": "fc4deed3-b6f8-440f-b3d2-de7146ecc134",
   "metadata": {},
   "source": [
    "### E1: Quality of the Clustering Technique\n",
    "\n",
    "A Silhouette Score will be used to determine the quality of the hierarchical clustering in this analysis. Silhouette Scores are a method to evaluate the quality of clustering algorithms by measuring each data point’s similarity to the cluster it belongs to and how different it is from other clusters (Gultekin, 2023). As Bhardwaj notes, it can also be used to check for the optimal number of clusters - as was done in previous sections of this analysis. Silhouette Scores produce a value on a scale from -1 to 1. The ideal score for a quality clustering algorithm would be 1. Scoring is as follows:\n",
    "- A score close to -1 indicates the point might be assigned to the wrong cluster\n",
    "- A score close to 0 indicates the point lies between clusters or is in a region of overlapping clusters\n",
    "- A score close to 1 indicates the point is well-clustered with a clear separation from neighboring clusters\n",
    "\n",
    "The Silhouette Score for the hierarchical clustering with 4 clusters is -0.033. While this negative score would typically indicate poor clustering performance, in this medical context the result is actually informative. The near-zero value suggests that patients' condition patterns frequently overlap between clusters, while the negative value indicates that many patients might be more similar to neighboring clusters than to their own assigned cluster. This makes sense from a clinical stand point because medical conditions often co-occur and have dependencies on one another. For example, conditions like high blood pressure, diabetes, and being overweight frequently co-occur as part of metabolic syndrome, per the Mayo Clinic. Ultimately, the negative silhouette score reflects the reality that medical conditions don't naturally separate into well-isolated groups. Overall, the clustering appears statistically weak, but at least the results align with our understanding of how medical conditions interact in real patients."
   ]
  },
  {
   "cell_type": "code",
   "execution_count": 25,
   "id": "aac0efc2-d320-470d-a399-f4850c2a34fd",
   "metadata": {},
   "outputs": [
    {
     "name": "stdout",
     "output_type": "stream",
     "text": [
      "The Silhouette Score for 4 clusters is -0.033.\n"
     ]
    }
   ],
   "source": [
    "cluster_labels = fcluster(linkage_matrix, 4, criterion='maxclust')\n",
    "score = silhouette_score(rdf.transpose(), cluster_labels)\n",
    "\n",
    "print(f\"The Silhouette Score for 4 clusters is {score:.3f}.\")"
   ]
  },
  {
   "cell_type": "markdown",
   "id": "015f4d8d-7377-4582-8ffc-3d48ceef72d6",
   "metadata": {},
   "source": [
    "### E2: Results and Implications\n",
    "\n",
    "The hierarchical clustering in this analysis resulted in 4 clusters being produced. Each of the 4 clusters contained a grouping of medical conditions that identify patterns of co-occuring medical conditions within the patient population. 3 of the 4 clusters were actually associated to only a single medical condition; those conditions were Asthma, Diabetes, and Stroke. The 4th cluster contained a grouping of Allergic Rhinitis, Anxiety, Arthritis, Back Pain, High Blood Pressure, Hyperlipidemia, Overweight, and Reflux Esophagitis. It is surprising in this analysis to see all medical conditions essentially existing on their own or lumped in to a group with everything else. While initially surprising, the result does provide valuable insights into how these medical conditions exist within the patient population. Asthma, Diabetes, and Stroke being isolated into individual clusters may suggest that they have more distinct occurrence patterns that set them apart from the other conditions in the data set.\n",
    "\n",
    "The cluster containing eight conditions reveals important patterns of co-occurrence among chronic conditions across different bodily functions. This grouping alongside the analysis's negative silhouette score of -0.033 suggests that there is significant overlap between these conditions in the patient population. This finding aligns with clinical observations that many chronic conditions share common risk factors and tend to develop concurrently. The results highlight the importance of considering the conditions as interconnected rather than isolated issues, which may inform a more holistic approach to patient care strategy.\n",
    "\n",
    "These findings have significant implications for healthcare delivery and patient outcomes. The clustering pattern suggests that healthcare providers should continue to be aware of potential comorbidities, especially with patients who present with conditions from the large cluster. The distinct clustering of Asthma, Diabetes, and Stroke indicates that these conditions might require more specialized management approaches. Overall, these findings could inform the development of more effective treatment protocols and risk assessment strategies."
   ]
  },
  {
   "cell_type": "code",
   "execution_count": 26,
   "id": "12db8769-6b16-4269-abd7-486a38687c88",
   "metadata": {},
   "outputs": [
    {
     "name": "stdout",
     "output_type": "stream",
     "text": [
      "\n",
      "Conditions in each cluster:\n",
      "\n",
      "Cluster 1:\n",
      "• Allergic_rhinitis\n",
      "• Anxiety\n",
      "• Arthritis\n",
      "• BackPain\n",
      "• HighBlood\n",
      "• Hyperlipidemia\n",
      "• Overweight\n",
      "• Reflux_esophagitis\n",
      "\n",
      "Cluster 2:\n",
      "• Asthma\n",
      "\n",
      "Cluster 3:\n",
      "• Diabetes\n",
      "\n",
      "Cluster 4:\n",
      "• Stroke\n"
     ]
    }
   ],
   "source": [
    "# Set number of clusters\n",
    "n_clusters = 4\n",
    "cluster_labels = fcluster(linkage_matrix, n_clusters, criterion='maxclust')\n",
    "\n",
    "# Create cluster profiles\n",
    "conditions_by_cluster = pd.DataFrame({\n",
    "    'Condition': rdf.columns,\n",
    "    'Cluster': cluster_labels\n",
    "})\n",
    "\n",
    "# Print results\n",
    "print(\"\\nConditions in each cluster:\")\n",
    "for cluster in range(1, n_clusters + 1):\n",
    "    conditions = conditions_by_cluster[conditions_by_cluster['Cluster'] == cluster]['Condition']\n",
    "    print(f\"\\nCluster {cluster}:\")\n",
    "    for condition in conditions:\n",
    "        print(f\"• {condition}\")"
   ]
  },
  {
   "cell_type": "markdown",
   "id": "b44cfbee-06d3-420c-a532-69c549fedc5a",
   "metadata": {},
   "source": [
    "### E3: Limitation\n",
    "\n",
    "The limitation for this particular analysis seems to be the relatively small number of medical conditions included in the data set. Only 11 medical conditions provides a restricted view of potential disease interactions and comorbidity patterns. Common chronic conditions like cancer, heart disease, chronic kidney disease, depression, and many others were not included in the data set. Not having data on these conditions could significantly impact the clustering results and potentially mask important patterns. For example, the conditions that were clustered individually may show stronger clustering and patterns alongside a broader spectrum of diseases. It could also be said that the binary nature of the condition values limits the insights that can be drawn. If measurements were used in place of a simple yes or no, disease severity, duration, and/or progression could be used to cluster to identify patterns. This analysis would surely benefit from more chronic medical conditions and more detailed clinical information about each condition."
   ]
  },
  {
   "cell_type": "markdown",
   "id": "1a5def85-0bc8-4a9a-9489-938bd4778caf",
   "metadata": {},
   "source": [
    "### E4: Course of Action\n",
    "\n",
    "Given the findings and limitations of this analysis, several key actions are recommended. Prior to taking any action, it would be extremely helpful to have actual medical providers within the hospital system review the results. They may have frontline knowledge that helps broaden the understanding of the results and lead to more well-informed next steps. Combining such a step with the results produced already would allow health care providers develop more integrated treatment plans, particularly targeting the medical conditions within the larger cluster. This could begin with implementing more proactive screening measures to help identify patients with these conditions upon initial hospital admission. This would include screening measures that not only check if the patient is aware of the condition, but also to actually do a comprehensive screening for medical conditions to do an initial diagnosis. Earlier detection via screening could lead to more effective management of related conditions. \n",
    "\n",
    "Aside from actually implementing practices within the hospital system, this analysis could benefit from a more comprehensive data set that includes a broader range of medical conditions. A key limitation of this analysis is the lack of medical conditions which may ultimately be preventing the identification of patterns and quality clustering. It would be interesting to see if adding more medical conditions would help increase the Silhouette Score or if co-occurence of medical conditions actually causes the score to worsen. Perhaps the medical conditions in the analysis needs to be informed by an existing study of the top 25 most prevalent medical conditions, for example. Much more thought and research would need to happen to perform feature selection.\n",
    "\n",
    "Even further analysis would benefit from incorporating more detailed clinical data, including disease severity, duration, and progression metrics, rather than just binary presence/absence indicators. This would provide deeper insights into how conditions interact and evolve together over time. Much thought and clinical expertise would need to go in to this to ensure that the measurements being used are consistent between medical conditions. Although standard scaling would help with scales, it seems intuitive that the measurements have to be based on a similar approach to ensure there is no ambiguity in the understanding of the analysis results."
   ]
  },
  {
   "cell_type": "markdown",
   "id": "dfd91549-691a-4b3f-b9f1-46893fcd05de",
   "metadata": {},
   "source": [
    "## Part VI: Demonstration"
   ]
  },
  {
   "cell_type": "markdown",
   "id": "4bcf85ae-87a1-4456-8457-6538337ff75b",
   "metadata": {},
   "source": [
    "### F: Panopto Video of Code\n",
    "\n",
    "Included in the task submission."
   ]
  },
  {
   "cell_type": "markdown",
   "id": "695e6698-13bf-4541-b909-3899bc3918ab",
   "metadata": {},
   "source": [
    "### F1: Panopto Video of Programs\n",
    "\n",
    "Included in the task submission."
   ]
  },
  {
   "cell_type": "markdown",
   "id": "6d6249d4-326c-45eb-8be4-5df7a843f8db",
   "metadata": {},
   "source": [
    "### G: Sources for Third-Party Code\n",
    "\n",
    "Bhardwaj, A. (2020, May 27). Silhouette coefficient : Validating clustering techniques. Medium. https://towardsdatascience.com/silhouette-coefficient-validating-clustering-techniques-e976bb81d10c \n",
    "\n",
    "datacamp. (n.d.). Data Mining II. https://app.datacamp.com/learn/custom-tracks/custom-data-mining-ii \n",
    "\n",
    "Keita, Z. (2023, January 19). An introduction to hierarchical clustering in Python. DataCamp. https://www.datacamp.com/tutorial/introduction-hierarchical-clustering-python"
   ]
  },
  {
   "cell_type": "markdown",
   "id": "dc7d06f1-cbe8-4978-b3b8-5df520910621",
   "metadata": {},
   "source": [
    "### H: Sources\n",
    "\n",
    "Bhardwaj, A. (2020, May 27). Silhouette coefficient : Validating clustering techniques. Medium. https://towardsdatascience.com/silhouette-coefficient-validating-clustering-techniques-e976bb81d10c \n",
    "\n",
    "Cornell, J. E., Pugh, J. A., John W. Williams, J., Kazis, L., Lee, A. F. S., Parchman, M. L., Zeber, J., Pederson, T., Montgomery, K. A., & Noël, P. H. (2009, January 13). Multimorbidity clusters: Clustering binary data from multimorbidity clusters: Clustering binary data from a large administrative medical database. Applied Multivariate Research. https://amr.uwindsor.ca/index.php/AMR/article/view/658 \n",
    "\n",
    "datacamp. (n.d.). Data Mining II. https://app.datacamp.com/learn/custom-tracks/custom-data-mining-ii \n",
    "\n",
    "GeeksforGeeks. (2023b, December 12). Hierarchical clustering in data mining. https://www.geeksforgeeks.org/hierarchical-clustering-in-data-mining/ \n",
    "\n",
    "Gultekin, H. (2023, September 7). What is silhouette score?. Medium. https://medium.com/@hazallgultekin/what-is-silhouette-score-f428fb39bf9a \n",
    "\n",
    "Hierarchical cluster analysis in SPSS - explained, performing test. Statistical Analysis Services For Academic Researches. (n.d.). https://spssanalysis.com/hierarchical-cluster-analysis-in-spss/#:~:text=Here%20are%20the%20key%20assumptions,using%20the%20chosen%20distance%20metric. \n",
    "\n",
    "How to calculate Jaccard similarity in Python. GeeksforGeeks. (2023, August 11). https://www.geeksforgeeks.org/how-to-calculate-jaccard-similarity-in-python/ \n",
    "\n",
    "IBM. (n.d.). Hierarchical cluster analysis. SPSS Statistics. https://www.ibm.com/docs/en/spss-statistics/beta?topic=features-hierarchical-cluster-analysis \n",
    "\n",
    "Keita, Z. (2023, January 19). An introduction to hierarchical clustering in Python. DataCamp. https://www.datacamp.com/tutorial/introduction-hierarchical-clustering-python\n",
    "\n",
    "Mayo Foundation for Medical Education and Research. (n.d.). Metabolic syndrome. Mayo Clinic. https://www.mayoclinic.org/diseases-conditions/metabolic-syndrome/symptoms-causes/syc-20351916 \n",
    "\n",
    "Newcomer, S. R., Steiner, J. F., & Bayliss, E. A. (2011, August 9). Identifying subgroups of complex patients with cluster analysis. AJMC. https://www.ajmc.com/view/ajmc_11julaug_newcomer_e324to32\n",
    "\n",
    "Van Otten, N. (2023, October 4). Hierarchical Clustering Comprehensive & practical how to guide in Python. Spot Intelligence. https://spotintelligence.com/2023/09/12/hierarchical-clustering-comprehensive-practical-how-to-guide-in-python/ "
   ]
  },
  {
   "cell_type": "code",
   "execution_count": null,
   "id": "53e3502c-4b3f-49c1-9581-1e678a5ca74c",
   "metadata": {},
   "outputs": [],
   "source": []
  }
 ],
 "metadata": {
  "kernelspec": {
   "display_name": "Python 3 (ipykernel)",
   "language": "python",
   "name": "python3"
  },
  "language_info": {
   "codemirror_mode": {
    "name": "ipython",
    "version": 3
   },
   "file_extension": ".py",
   "mimetype": "text/x-python",
   "name": "python",
   "nbconvert_exporter": "python",
   "pygments_lexer": "ipython3",
   "version": "3.12.8"
  }
 },
 "nbformat": 4,
 "nbformat_minor": 5
}
